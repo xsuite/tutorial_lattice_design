{
 "cells": [
  {
   "cell_type": "code",
   "execution_count": 3,
   "id": "42f8e55a-2d21-4b72-a75d-84012e72a969",
   "metadata": {},
   "outputs": [],
   "source": [
    "import xtrack as xt"
   ]
  },
  {
   "cell_type": "code",
   "execution_count": 4,
   "id": "b56e5fbb-42a3-4ef8-ab2b-8cb6813440e7",
   "metadata": {},
   "outputs": [
    {
     "data": {
      "application/vnd.jupyter.widget-view+json": {
       "model_id": "d5ffafed2cd841ac8890a9f0e77453d1",
       "version_major": 2,
       "version_minor": 0
      },
      "text/plain": [
       "Loading line from dict:   0%|          | 0/14522 [00:00<?, ?it/s]"
      ]
     },
     "metadata": {},
     "output_type": "display_data"
    },
    {
     "name": "stdout",
     "output_type": "stream",
     "text": [
      "Done loading line from dict.           \n"
     ]
    }
   ],
   "source": [
    "line = xt.Line.from_json('../../xtrack/test_data/hllhc15_thick/lhc_thick_with_knobs.json')"
   ]
  },
  {
   "cell_type": "markdown",
   "id": "05db1ebe-92b8-46d1-8f2a-4ae236671f7a",
   "metadata": {},
   "source": [
    "### Working with variables"
   ]
  },
  {
   "cell_type": "markdown",
   "id": "06ea272c-a260-4aff-9b26-53ba2efb3ea9",
   "metadata": {},
   "source": [
    "Value of a variable"
   ]
  },
  {
   "cell_type": "code",
   "execution_count": 9,
   "id": "e03b4985-df53-4c27-ac0d-68a99149222c",
   "metadata": {},
   "outputs": [
    {
     "data": {
      "text/plain": [
       "0.0"
      ]
     },
     "execution_count": 9,
     "metadata": {},
     "output_type": "execute_result"
    }
   ],
   "source": [
    "line['on_x5']"
   ]
  },
  {
   "cell_type": "markdown",
   "id": "461f0cd5-3e16-4677-8672-7e85423d7682",
   "metadata": {},
   "source": [
    "Setting a variable to an expression"
   ]
  },
  {
   "cell_type": "code",
   "execution_count": 10,
   "id": "972efcdf-352d-4487-8371-194e8c1ad4c9",
   "metadata": {},
   "outputs": [],
   "source": [
    "line['on_x1'] = '3 * on_x2'"
   ]
  },
  {
   "cell_type": "markdown",
   "id": "3d30e35a-8526-483c-a9ae-bdac9e624bd3",
   "metadata": {},
   "source": [
    "Reference to a variable"
   ]
  },
  {
   "cell_type": "code",
   "execution_count": 14,
   "id": "c9db8962-3b78-40fc-baa9-43c4a5e1e1aa",
   "metadata": {},
   "outputs": [
    {
     "data": {
      "text/plain": [
       "(3.0 * vars['on_x2'])"
      ]
     },
     "execution_count": 14,
     "metadata": {},
     "output_type": "execute_result"
    }
   ],
   "source": [
    "line.ref['on_x1']._expr"
   ]
  },
  {
   "cell_type": "markdown",
   "id": "9a78f5bd-62e0-4d77-8be2-759e42fe8f7a",
   "metadata": {},
   "source": [
    "Explicit expression"
   ]
  },
  {
   "cell_type": "code",
   "execution_count": 16,
   "id": "2632ccc4-61dd-4ec0-9915-40e86608fdc8",
   "metadata": {},
   "outputs": [],
   "source": [
    "line.ref['on_x1']= 3 * line.ref['on_x5']"
   ]
  },
  {
   "cell_type": "markdown",
   "id": "b50abb62-b11c-4c24-a5bf-908e49fd1b67",
   "metadata": {},
   "source": [
    "Assignment by value"
   ]
  },
  {
   "cell_type": "code",
   "execution_count": 17,
   "id": "758158a8-9d5d-4f66-a78e-1f78bbc10d25",
   "metadata": {},
   "outputs": [],
   "source": [
    "line.ref['on_x1']= 3 * line['on_x5']"
   ]
  },
  {
   "cell_type": "markdown",
   "id": "d3656fbb-ecde-4ff9-aa7d-bfbde6e9686d",
   "metadata": {},
   "source": [
    "Full info"
   ]
  },
  {
   "cell_type": "code",
   "execution_count": 18,
   "id": "d7bf7f7d-668f-4389-a2b5-e60cf733e342",
   "metadata": {},
   "outputs": [
    {
     "name": "stdout",
     "output_type": "stream",
     "text": [
      "#  vars['on_x1']._get_value()\n",
      "   vars['on_x1'] = 0.0\n",
      "\n",
      "#  vars['on_x1']._expr is None\n",
      "\n",
      "#  vars['on_x1']._find_dependant_targets()\n",
      "   vars['on_x1vl']\n",
      "   vars['on_dx1vl']\n",
      "   vars['on_x1vs']\n",
      "   vars['pyip1b2']\n",
      "   vars['pyip1b1']\n",
      "   vars['acbyv4.r1b2']\n",
      "   vars['acbyv4.l1b1']\n",
      "   element_refs['mcbyv.b4l1.b1'].ksl[0]\n",
      "   ... set _info(limit=None) to get all lines\n",
      "\n"
     ]
    }
   ],
   "source": [
    "line.ref['on_x1']._info()"
   ]
  },
  {
   "cell_type": "markdown",
   "id": "194358dd-f47a-43b4-a5f0-9fe96dbd9bae",
   "metadata": {},
   "source": [
    "## Access elements"
   ]
  },
  {
   "cell_type": "code",
   "execution_count": 22,
   "id": "abc6d7c7-41cc-48b2-9240-29272e072adf",
   "metadata": {},
   "outputs": [
    {
     "data": {
      "text/plain": [
       "View of Multipole(_order=np.int64(0), inv_factorial_order=1, length=0.9, hxl=0, radiation_flag=np.int64(0), delta_taper=0, knl=array([0.]), ksl=array([0.]), _sin_rot_s=-999, _cos_rot_s=-999, _shift_x=0, _shift_y=0, _shift_s=0, _internal_record_id=RecordIdentifier(buffer_id=np.int64(0), offset=np.int64(0)))"
      ]
     },
     "execution_count": 22,
     "metadata": {},
     "output_type": "execute_result"
    }
   ],
   "source": [
    "line['mcbyv.b4l1.b1']"
   ]
  },
  {
   "cell_type": "code",
   "execution_count": 38,
   "id": "cfcde27c-5ab9-40ee-81b7-63bb0734afdb",
   "metadata": {},
   "outputs": [],
   "source": [
    "line['a'] = 0\n",
    "line['mcbyv.b4l1.b1'].ksl[0] = 'a'"
   ]
  },
  {
   "cell_type": "code",
   "execution_count": 45,
   "id": "2e32f13e-58df-48a1-aa9a-647ef11dbd78",
   "metadata": {},
   "outputs": [],
   "source": [
    "line.set('mcbyv.b4l1.b1', length='3*a', delta_taper='4*a', knl=['3*a'])"
   ]
  },
  {
   "cell_type": "markdown",
   "id": "a200b57b-7c59-4724-8f0a-a69e28823080",
   "metadata": {},
   "source": [
    "## Access modes"
   ]
  },
  {
   "cell_type": "markdown",
   "id": "a337b3eb-9c34-4029-9d22-9c1422a1be0c",
   "metadata": {},
   "source": [
    "Three ways: `line[]`, `line.ref[]`, `line.get()`"
   ]
  },
  {
   "cell_type": "markdown",
   "id": "bf6c1b1c-2c54-41f4-890d-af94373166cd",
   "metadata": {},
   "source": [
    "**For elements:**"
   ]
  },
  {
   "cell_type": "code",
   "execution_count": 34,
   "id": "d9a70406-2fea-4e56-a3ae-9f0731b39047",
   "metadata": {},
   "outputs": [
    {
     "data": {
      "text/plain": [
       "View of Multipole(_order=np.int64(0), inv_factorial_order=1, length=0.9, hxl=0, radiation_flag=np.int64(0), delta_taper=0, knl=array([0.]), ksl=array([0.]), _sin_rot_s=-999, _cos_rot_s=-999, _shift_x=0, _shift_y=0, _shift_s=0, _internal_record_id=RecordIdentifier(buffer_id=np.int64(0), offset=np.int64(0)))"
      ]
     },
     "execution_count": 34,
     "metadata": {},
     "output_type": "execute_result"
    }
   ],
   "source": [
    "line['mcbyv.b4l1.b1']"
   ]
  },
  {
   "cell_type": "code",
   "execution_count": 30,
   "id": "62bb0032-f914-4c69-90ff-220d03af39df",
   "metadata": {},
   "outputs": [
    {
     "data": {
      "text/plain": [
       "element_refs['mcbyv.b4l1.b1']"
      ]
     },
     "execution_count": 30,
     "metadata": {},
     "output_type": "execute_result"
    }
   ],
   "source": [
    "line.ref['mcbyv.b4l1.b1']"
   ]
  },
  {
   "cell_type": "code",
   "execution_count": 31,
   "id": "598b236a-a277-4796-9d9f-5a2a7d31d981",
   "metadata": {},
   "outputs": [
    {
     "data": {
      "text/plain": [
       "Multipole(_order=np.int64(0), inv_factorial_order=1, length=0.9, hxl=0, radiation_flag=np.int64(0), delta_taper=0, knl=array([0.]), ksl=array([0.]), _sin_rot_s=-999, _cos_rot_s=-999, _shift_x=0, _shift_y=0, _shift_s=0, _internal_record_id=RecordIdentifier(buffer_id=np.int64(0), offset=np.int64(0)))"
      ]
     },
     "execution_count": 31,
     "metadata": {},
     "output_type": "execute_result"
    }
   ],
   "source": [
    "line.get('mcbyv.b4l1.b1')"
   ]
  },
  {
   "cell_type": "markdown",
   "id": "ca3821fa-b8b3-4031-9608-9e88359c095c",
   "metadata": {},
   "source": [
    "## Select"
   ]
  },
  {
   "cell_type": "code",
   "execution_count": 57,
   "id": "ebda0d62-5773-49cc-af95-be1cb5ba3aa4",
   "metadata": {},
   "outputs": [],
   "source": [
    "section = line.select('ip4', 'ip6')"
   ]
  },
  {
   "cell_type": "code",
   "execution_count": 58,
   "id": "ae380ba8-4679-4f98-88bc-0d23883f5eda",
   "metadata": {},
   "outputs": [
    {
     "data": {
      "image/png": "[encoded data removed]",
      "text/plain": [
       "<Figure size 640x480 with 1 Axes>"
      ]
     },
     "metadata": {},
     "output_type": "display_data"
    }
   ],
   "source": [
    "section.survey().plot()"
   ]
  },
  {
   "cell_type": "markdown",
   "id": "ba1271ff-4419-4ad9-9bd7-946fe428d695",
   "metadata": {},
   "source": [
    "**For vars:**"
   ]
  },
  {
   "cell_type": "code",
   "execution_count": 35,
   "id": "651a23de-222e-4cca-8db4-72b566979744",
   "metadata": {},
   "outputs": [
    {
     "data": {
      "text/plain": [
       "0.0"
      ]
     },
     "execution_count": 35,
     "metadata": {},
     "output_type": "execute_result"
    }
   ],
   "source": [
    "line['on_x1']"
   ]
  },
  {
   "cell_type": "code",
   "execution_count": 36,
   "id": "36c5c1e3-be54-4e6c-809a-4ca1d87a4e2b",
   "metadata": {},
   "outputs": [
    {
     "data": {
      "text/plain": [
       "vars['on_x1']"
      ]
     },
     "execution_count": 36,
     "metadata": {},
     "output_type": "execute_result"
    }
   ],
   "source": [
    "line.ref['on_x1']"
   ]
  },
  {
   "cell_type": "code",
   "execution_count": 37,
   "id": "4a47b5fa-a589-4db5-b568-f4365863d4d2",
   "metadata": {},
   "outputs": [
    {
     "data": {
      "text/plain": [
       "0.0"
      ]
     },
     "execution_count": 37,
     "metadata": {},
     "output_type": "execute_result"
    }
   ],
   "source": [
    "line.get('on_x1')"
   ]
  },
  {
   "cell_type": "markdown",
   "id": "1ca53c1b-2310-4020-bd22-6b9769f22d70",
   "metadata": {},
   "source": [
    "---------------"
   ]
  },
  {
   "cell_type": "code",
   "execution_count": 51,
   "id": "fa41779b-02e9-4f61-a44d-67efb9c66bee",
   "metadata": {},
   "outputs": [],
   "source": [
    "mline = -line"
   ]
  },
  {
   "cell_type": "code",
   "execution_count": 52,
   "id": "da799e57-f87d-40d1-b866-d39c01bef14a",
   "metadata": {},
   "outputs": [
    {
     "data": {
      "text/plain": [
       "Table: 10 rows, 7 cols\n",
       "name                               s element_type isthick isreplica parent_name iscollective\n",
       "bpmw.4r7.b1                  26600.9 Drift           True     False None               False\n",
       "drift_2                      26600.9 Drift           True     False None               False\n",
       "drift_mcbwv.4r7.b1..2        26603.8 Drift           True     False None               False\n",
       "mcbwv.4r7.b1                 26604.7 Multipole      False     False None               False\n",
       "drift_mcbwv.4r7.b1..1        26604.7 Drift           True     False None               False\n",
       "drift_1                      26605.5 Drift           True     False None               False\n",
       "tcsg.a4r7.b1                 26657.4 Drift           True     False None               False\n",
       "drift_0                      26658.4 Drift           True     False None               False\n",
       "ip7                          26658.9 Marker         False     False None               False\n",
       "_end_point                   26658.9                False     False None               False"
      ]
     },
     "execution_count": 52,
     "metadata": {},
     "output_type": "execute_result"
    }
   ],
   "source": [
    "mline.get_table().rows[-10:]"
   ]
  },
  {
   "cell_type": "code",
   "execution_count": 53,
   "id": "79ae2bcc-b3ef-44cf-b724-c3d4deb965c9",
   "metadata": {},
   "outputs": [
    {
     "data": {
      "text/plain": [
       "Table: 10 rows, 7 cols\n",
       "name                               s element_type isthick isreplica parent_name iscollective\n",
       "ip7                                0 Marker         False     False None               False\n",
       "drift_0                            0 Drift           True     False None               False\n",
       "tcsg.a4r7.b1                     0.5 Drift           True     False None               False\n",
       "drift_1                          1.5 Drift           True     False None               False\n",
       "drift_mcbwv.4r7.b1..1         53.341 Drift           True     False None               False\n",
       "mcbwv.4r7.b1                  54.191 Multipole      False     False None               False\n",
       "drift_mcbwv.4r7.b1..2         54.191 Drift           True     False None               False\n",
       "drift_2                       55.041 Drift           True     False None               False\n",
       "bpmw.4r7.b1                  57.9855 Drift           True     False None               False\n",
       "drift_3                      57.9855 Drift           True     False None               False"
      ]
     },
     "execution_count": 53,
     "metadata": {},
     "output_type": "execute_result"
    }
   ],
   "source": [
    "line.get_table().rows[:10]"
   ]
  },
  {
   "cell_type": "markdown",
   "id": "32b5fc7a-6636-4ca4-816a-cc64c0f824d8",
   "metadata": {},
   "source": [
    "-------"
   ]
  },
  {
   "cell_type": "code",
   "execution_count": null,
   "id": "727466ac-02b9-4912-94ec-90874cff952e",
   "metadata": {},
   "outputs": [],
   "source": [
    "bld.place('m1', at=3, anchor=xt.START, from_='m1', from_anchor=xt.END)"
   ]
  }
 ],
 "metadata": {
  "kernelspec": {
   "display_name": "Python 3 (ipykernel)",
   "language": "python",
   "name": "python3"
  },
  "language_info": {
   "codemirror_mode": {
    "name": "ipython",
    "version": 3
   },
   "file_extension": ".py",
   "mimetype": "text/x-python",
   "name": "python",
   "nbconvert_exporter": "python",
   "pygments_lexer": "ipython3",
   "version": "3.11.7"
  }
 },
 "nbformat": 4,
 "nbformat_minor": 5
}
