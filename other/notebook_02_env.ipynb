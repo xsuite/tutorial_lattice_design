{
 "cells": [
  {
   "cell_type": "code",
   "execution_count": 1,
   "id": "40997129-5f50-4b57-b32e-146caac6a35d",
   "metadata": {},
   "outputs": [],
   "source": [
    "%matplotlib widget"
   ]
  },
  {
   "cell_type": "code",
   "execution_count": 2,
   "id": "f3808407-c1e9-4084-9697-edc620785d4b",
   "metadata": {},
   "outputs": [],
   "source": [
    "import xtrack as xt\n",
    "import numpy as np\n",
    "\n",
    "import matplotlib.pyplot as plt"
   ]
  },
  {
   "cell_type": "code",
   "execution_count": 3,
   "id": "e571ffb2-ec11-4ec9-9dac-65f810a3ae31",
   "metadata": {},
   "outputs": [],
   "source": [
    "env = xt.Environment()\n",
    "env.particle_ref = xt.Particles(p0c=2e9)"
   ]
  },
  {
   "cell_type": "markdown",
   "id": "52a072d1-add1-46e7-84e6-182c9fb383e9",
   "metadata": {},
   "source": [
    "## List of methods"
   ]
  },
  {
   "cell_type": "markdown",
   "id": "ac1f35cb-ba46-40d9-aa73-f3096d1de9cb",
   "metadata": {},
   "source": [
    "`env[]`, `env.ref[]`, `env.get()` behave like for the line"
   ]
  },
  {
   "cell_type": "code",
   "execution_count": 4,
   "id": "ecd198e1-06c8-4056-887e-72b06a21f109",
   "metadata": {},
   "outputs": [
    {
     "data": {
      "text/plain": [
       "<bound method Environment.new of <xtrack.environment.Environment object at 0x157f3e6d0>>"
      ]
     },
     "execution_count": 4,
     "metadata": {},
     "output_type": "execute_result"
    }
   ],
   "source": [
    "env.new"
   ]
  },
  {
   "cell_type": "code",
   "execution_count": 5,
   "id": "5c1db5f9-e5ca-452b-84b0-735c4beb3064",
   "metadata": {},
   "outputs": [
    {
     "data": {
      "text/plain": [
       "<bound method Environment.place of <xtrack.environment.Environment object at 0x157f3e6d0>>"
      ]
     },
     "execution_count": 5,
     "metadata": {},
     "output_type": "execute_result"
    }
   ],
   "source": [
    "env.place"
   ]
  },
  {
   "cell_type": "code",
   "execution_count": 6,
   "id": "5f7feba2-3a85-446d-b34f-c91966737d77",
   "metadata": {},
   "outputs": [
    {
     "data": {
      "text/plain": [
       "<bound method Environment.new_line of <xtrack.environment.Environment object at 0x157f3e6d0>>"
      ]
     },
     "execution_count": 6,
     "metadata": {},
     "output_type": "execute_result"
    }
   ],
   "source": [
    "env.new_line"
   ]
  },
  {
   "cell_type": "markdown",
   "id": "7a25fd03-300c-4c8d-8eee-752df7d664ee",
   "metadata": {},
   "source": [
    "## Usage of `new`"
   ]
  },
  {
   "cell_type": "code",
   "execution_count": 7,
   "id": "1876fc02-9b6b-4a62-9bb3-3707ed2a0697",
   "metadata": {},
   "outputs": [
    {
     "data": {
      "text/plain": [
       "'m'"
      ]
     },
     "execution_count": 7,
     "metadata": {},
     "output_type": "execute_result"
    }
   ],
   "source": [
    "env['a'] = 3\n",
    "env.new('m', 'Bend', k0='2*a')"
   ]
  },
  {
   "cell_type": "code",
   "execution_count": 8,
   "id": "861e2e2f-0b24-4a17-9309-05aa0655951e",
   "metadata": {},
   "outputs": [
    {
     "data": {
      "text/plain": [
       "View of Bend(length=0, k0=6, k1=0, h=0, model='adaptive', knl=array([0., 0., 0., 0., 0., 0.]), ksl=array([0., 0., 0., 0., 0., 0.]), edge_entry_active=np.int64(1), edge_exit_active=np.int64(1), edge_entry_model='linear', edge_exit_model='linear', edge_entry_angle=0, edge_exit_angle=0, edge_entry_angle_fdown=0, edge_exit_angle_fdown=0, edge_entry_fint=0, edge_exit_fint=0, edge_entry_hgap=0, edge_exit_hgap=0, shift_x=0, shift_y=0, rot_s_rad=0)"
      ]
     },
     "execution_count": 8,
     "metadata": {},
     "output_type": "execute_result"
    }
   ],
   "source": [
    "env['m']"
   ]
  },
  {
   "cell_type": "code",
   "execution_count": 9,
   "id": "87546d7d-9815-4624-b72f-639eda343c23",
   "metadata": {},
   "outputs": [
    {
     "data": {
      "text/plain": [
       "'m1'"
      ]
     },
     "execution_count": 9,
     "metadata": {},
     "output_type": "execute_result"
    }
   ],
   "source": [
    "env.new('m1', 'm', k1='4*a')"
   ]
  },
  {
   "cell_type": "code",
   "execution_count": 10,
   "id": "cbca7588-8387-4ab1-85c1-ae54952fc99f",
   "metadata": {},
   "outputs": [
    {
     "data": {
      "text/plain": [
       "(2.0 * vars['a'])"
      ]
     },
     "execution_count": 10,
     "metadata": {},
     "output_type": "execute_result"
    }
   ],
   "source": [
    "env.ref['m1'].k0._expr"
   ]
  },
  {
   "cell_type": "code",
   "execution_count": 11,
   "id": "aa905707-34cc-47e7-ba45-076837fe335a",
   "metadata": {},
   "outputs": [
    {
     "data": {
      "text/plain": [
       "'m2'"
      ]
     },
     "execution_count": 11,
     "metadata": {},
     "output_type": "execute_result"
    }
   ],
   "source": [
    "env.new('m2', 'm', mode='replica')"
   ]
  },
  {
   "cell_type": "code",
   "execution_count": 12,
   "id": "40c7f1d5-8761-4537-bd3a-126aa2e261b0",
   "metadata": {},
   "outputs": [
    {
     "data": {
      "text/plain": [
       "View of Replica(parent_name=\"m\")"
      ]
     },
     "execution_count": 12,
     "metadata": {},
     "output_type": "execute_result"
    }
   ],
   "source": [
    "env['m2']"
   ]
  },
  {
   "cell_type": "code",
   "execution_count": 13,
   "id": "8e32eac6-eaf1-47ef-9ad2-47fcde0437cf",
   "metadata": {},
   "outputs": [
    {
     "data": {
      "text/plain": [
       "Place(m3, at=s.m3, from_=ip)"
      ]
     },
     "execution_count": 13,
     "metadata": {},
     "output_type": "execute_result"
    }
   ],
   "source": [
    "env.new('m3', 'm', k1='4*a', at='s.m3', from_='ip')"
   ]
  },
  {
   "cell_type": "markdown",
   "id": "785c10e1-c602-45c3-bbea-2ed1d84ea636",
   "metadata": {},
   "source": [
    "## Usage of place"
   ]
  },
  {
   "cell_type": "code",
   "execution_count": 14,
   "id": "d44acc2d-fe56-4a55-bd7c-1826f1ccd75a",
   "metadata": {},
   "outputs": [
    {
     "data": {
      "text/plain": [
       "Place(m1, at=3*b, from_=None)"
      ]
     },
     "execution_count": 14,
     "metadata": {},
     "output_type": "execute_result"
    }
   ],
   "source": [
    "env.place('m1', at='3*b')"
   ]
  },
  {
   "cell_type": "markdown",
   "id": "3fdfc1cf-3701-47a4-b1d9-52b3a5e88433",
   "metadata": {},
   "source": [
    "## New line"
   ]
  },
  {
   "cell_type": "code",
   "execution_count": 15,
   "id": "bc42d86c-8d72-4930-a2d6-ee2aebe254c9",
   "metadata": {},
   "outputs": [],
   "source": [
    "line = env.new_line(name='myline', components=[\n",
    "    'm',\n",
    "    env.place('m1', at=4),\n",
    "    env.new('ip', 'Marker'),\n",
    "    env.new('m2', 'm1', at=-2, from_='ip')\n",
    "])"
   ]
  },
  {
   "cell_type": "markdown",
   "id": "003e05d7-033e-451e-8e00-5b6ee8664785",
   "metadata": {},
   "source": [
    "Line with another line inside"
   ]
  },
  {
   "cell_type": "code",
   "execution_count": 16,
   "id": "48185fa8-af2c-4cee-a4f4-25d52338c930",
   "metadata": {},
   "outputs": [],
   "source": [
    "line2 = env.new_line(name='myline2', components=[\n",
    "    'm',\n",
    "    env.place('m1', at=4),\n",
    "    env.new('ip', 'Marker'),\n",
    "    env.new('m2', 'm1', at=-2, from_='ip'),\n",
    "    env.new('subline', 'myline', at=100)\n",
    "])"
   ]
  },
  {
   "cell_type": "markdown",
   "id": "55f6de12-a458-4662-99f8-dcaf987d7b3a",
   "metadata": {},
   "source": [
    "How it looks"
   ]
  },
  {
   "cell_type": "code",
   "execution_count": 17,
   "id": "2d89b60d-213e-4d83-a0f9-7747ae16d84e",
   "metadata": {},
   "outputs": [
    {
     "data": {
      "text/plain": [
       "Table: 14 rows, 99 cols\n",
       "name                        s element_type isthick isreplica parent_name iscollective ...\n",
       "m                           0 Bend            True     False None               False\n",
       "drift_3                     0 Drift           True     False None               False\n",
       "m2                          2 Bend            True     False None               False\n",
       "drift_4                     2 Drift           True     False None               False\n",
       "m1                          4 Bend            True     False None               False\n",
       "ip                          4 Marker         False     False None               False\n",
       "drift_5                     4 Drift           True     False None               False\n",
       "m.subline                  98 Bend            True     False None               False\n",
       "drift_1.subline            98 Drift           True     False None               False\n",
       "m2.subline                100 Bend            True     False None               False\n",
       "drift_2.subline           100 Drift           True     False None               False\n",
       "m1.subline                102 Bend            True     False None               False\n",
       "ip.subline                102 Marker         False     False None               False\n",
       "_end_point                102                False     False None               False"
      ]
     },
     "execution_count": 17,
     "metadata": {},
     "output_type": "execute_result"
    }
   ],
   "source": [
    "line2.get_table(attr=True)"
   ]
  },
  {
   "cell_type": "markdown",
   "id": "69a0ef67-22dd-4084-9d06-f767613c0c0f",
   "metadata": {},
   "source": [
    "How it was built"
   ]
  },
  {
   "cell_type": "code",
   "execution_count": 18,
   "id": "d770e062-9aa1-4c11-b7ae-c54d3d76813c",
   "metadata": {},
   "outputs": [
    {
     "data": {
      "text/plain": [
       "['m',\n",
       " Place(m1, at=4, from_=None),\n",
       " 'ip',\n",
       " Place(m2, at=-2, from_=ip),\n",
       " Place(<Line subline at 6289189648>, at=100, from_=None)]"
      ]
     },
     "execution_count": 18,
     "metadata": {},
     "output_type": "execute_result"
    }
   ],
   "source": [
    "line2.builder.components"
   ]
  },
  {
   "cell_type": "code",
   "execution_count": 19,
   "id": "a0af2026-5f08-40e6-a575-e3519198a27d",
   "metadata": {},
   "outputs": [
    {
     "data": {
      "text/plain": [
       "Table: 7 rows, 7 cols\n",
       "name                   s element_type isthick isreplica parent_name iscollective\n",
       "m                      0 Bend            True     False None               False\n",
       "drift_1                0 Drift           True     False None               False\n",
       "m2                     2 Bend            True     False None               False\n",
       "drift_2                2 Drift           True     False None               False\n",
       "m1                     4 Bend            True     False None               False\n",
       "ip                     4 Marker         False     False None               False\n",
       "_end_point             4                False     False None               False"
      ]
     },
     "execution_count": 19,
     "metadata": {},
     "output_type": "execute_result"
    }
   ],
   "source": [
    "line.get_table()"
   ]
  },
  {
   "cell_type": "markdown",
   "id": "2c53b806-0bbd-4b41-a473-8844718591eb",
   "metadata": {},
   "source": [
    "## Builder"
   ]
  },
  {
   "cell_type": "code",
   "execution_count": 29,
   "id": "9beafb0c-b019-48b3-872b-34c2cd28d2c3",
   "metadata": {},
   "outputs": [],
   "source": [
    "bld = env.new_builder()"
   ]
  },
  {
   "cell_type": "code",
   "execution_count": 30,
   "id": "7da16254-8db4-4c87-83fe-c948bb12e07d",
   "metadata": {},
   "outputs": [
    {
     "data": {
      "text/plain": [
       "'mm'"
      ]
     },
     "execution_count": 30,
     "metadata": {},
     "output_type": "execute_result"
    }
   ],
   "source": [
    "bld.new('mm', 'Quadrupole')"
   ]
  },
  {
   "cell_type": "code",
   "execution_count": 31,
   "id": "d242713b-f284-4861-998f-0cf95589194e",
   "metadata": {},
   "outputs": [
    {
     "data": {
      "text/plain": [
       "'mm2'"
      ]
     },
     "execution_count": 31,
     "metadata": {},
     "output_type": "execute_result"
    }
   ],
   "source": [
    "env.new('mm1', 'mm')\n",
    "env.new('mm2', 'mm')"
   ]
  },
  {
   "cell_type": "code",
   "execution_count": 32,
   "id": "c019c605-9922-4e86-8584-bb116a31c6ab",
   "metadata": {},
   "outputs": [
    {
     "data": {
      "text/plain": [
       "Place(mm1, at=None, from_=None)"
      ]
     },
     "execution_count": 32,
     "metadata": {},
     "output_type": "execute_result"
    }
   ],
   "source": [
    "bld.place('mm1')"
   ]
  },
  {
   "cell_type": "code",
   "execution_count": 33,
   "id": "2c9ade7d-1224-45a1-81f7-a260d3fee6e2",
   "metadata": {},
   "outputs": [
    {
     "data": {
      "text/plain": [
       "Place(mm2, at=3, from_=mm)"
      ]
     },
     "execution_count": 33,
     "metadata": {},
     "output_type": "execute_result"
    }
   ],
   "source": [
    "bld.place('mm2', at=3, from_='mm')"
   ]
  },
  {
   "cell_type": "code",
   "execution_count": 34,
   "id": "7082eb79-c97d-428b-bf79-b5622a72b1b0",
   "metadata": {},
   "outputs": [
    {
     "data": {
      "text/plain": [
       "Builder(None, components=['mm', Place(mm1, at=None, from_=None), Place(mm2, at=3, from_=mm)])"
      ]
     },
     "execution_count": 34,
     "metadata": {},
     "output_type": "execute_result"
    }
   ],
   "source": [
    "bld"
   ]
  },
  {
   "cell_type": "code",
   "execution_count": 35,
   "id": "57f72ba9-302f-4838-866d-994102d1817a",
   "metadata": {},
   "outputs": [],
   "source": [
    "ll = bld.build()"
   ]
  },
  {
   "cell_type": "code",
   "execution_count": 36,
   "id": "531dacfe-cb62-49bc-aeb4-7b2cf6817690",
   "metadata": {},
   "outputs": [
    {
     "data": {
      "text/plain": [
       "Table: 5 rows, 7 cols\n",
       "name                   s element_type isthick isreplica parent_name iscollective\n",
       "mm                     0 Quadrupole      True     False None               False\n",
       "mm1                    0 Quadrupole      True     False None               False\n",
       "drift_6                0 Drift           True     False None               False\n",
       "mm2                    3 Quadrupole      True     False None               False\n",
       "_end_point             3                False     False None               False"
      ]
     },
     "execution_count": 36,
     "metadata": {},
     "output_type": "execute_result"
    }
   ],
   "source": [
    "ll.get_table()"
   ]
  },
  {
   "cell_type": "code",
   "execution_count": null,
   "id": "deb939d1-558a-40dd-9330-416b7182fb73",
   "metadata": {},
   "outputs": [],
   "source": []
  },
  {
   "cell_type": "markdown",
   "id": "6d903b43-a5dd-41a1-b52b-00efba4a9df1",
   "metadata": {},
   "source": [
    "------"
   ]
  },
  {
   "cell_type": "code",
   "execution_count": 38,
   "id": "33df7566-79b4-4ce7-a057-e045867536aa",
   "metadata": {},
   "outputs": [
    {
     "data": {
      "text/plain": [
       "{<weakref at 0x177a36930; to 'Line' at 0x176d27010>, <weakref at 0x1778de480; to 'Line' at 0x177a33ad0>, <weakref at 0x176e34e50; to 'Line' at 0x176dd6b10>, <weakref at 0x176d5d4e0; to 'Line' at 0x176dd5950>, <weakref at 0x176e35800; to 'Line' at 0x176dd8390>}"
      ]
     },
     "execution_count": 38,
     "metadata": {},
     "output_type": "execute_result"
    }
   ],
   "source": [
    "env._lines"
   ]
  },
  {
   "cell_type": "code",
   "execution_count": 39,
   "id": "3c4eca2e-394a-426a-b2c3-33e5bda97029",
   "metadata": {},
   "outputs": [],
   "source": [
    "lll = env.new_line()"
   ]
  },
  {
   "cell_type": "code",
   "execution_count": 41,
   "id": "964310e8-0cde-40f5-a49b-d7de0b65f9c2",
   "metadata": {},
   "outputs": [
    {
     "ename": "AttributeError",
     "evalue": "property 'name' of 'Line' object has no setter",
     "output_type": "error",
     "traceback": [
      "\u001b[0;31m---------------------------------------------------------------------------\u001b[0m",
      "\u001b[0;31mAttributeError\u001b[0m                            Traceback (most recent call last)",
      "Cell \u001b[0;32mIn[41], line 1\u001b[0m\n\u001b[0;32m----> 1\u001b[0m \u001b[43mlll\u001b[49m\u001b[38;5;241;43m.\u001b[39;49m\u001b[43mname\u001b[49m \u001b[38;5;241m=\u001b[39m \u001b[38;5;241m3\u001b[39m\n",
      "\u001b[0;31mAttributeError\u001b[0m: property 'name' of 'Line' object has no setter"
     ]
    }
   ],
   "source": [
    "lll.name = 3"
   ]
  },
  {
   "cell_type": "code",
   "execution_count": null,
   "id": "6a19563c-aef2-4d23-a85e-1b4fe96a90dd",
   "metadata": {},
   "outputs": [],
   "source": []
  }
 ],
 "metadata": {
  "kernelspec": {
   "display_name": "Python 3 (ipykernel)",
   "language": "python",
   "name": "python3"
  },
  "language_info": {
   "codemirror_mode": {
    "name": "ipython",
    "version": 3
   },
   "file_extension": ".py",
   "mimetype": "text/x-python",
   "name": "python",
   "nbconvert_exporter": "python",
   "pygments_lexer": "ipython3",
   "version": "3.11.7"
  }
 },
 "nbformat": 4,
 "nbformat_minor": 5
}
